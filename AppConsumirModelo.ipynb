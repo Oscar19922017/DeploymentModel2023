{
 "cells": [
  {
   "cell_type": "markdown",
   "id": "f99950d8-a331-4e12-8742-76c224634ae6",
   "metadata": {},
   "source": [
    "# **Ciclo de Vida de un Modelo ML**\n",
    "\n",
    "\n",
    "**Preparación del Modelo:**\n",
    "\n",
    "\n",
    "Entrenamiento del Modelo:\r\n",
    "Utiliza conjuntos de datos de entrenamiento y validación.\r\n",
    "Ajusta los hiperparámetros para obtener el mejor rendimient\n",
    "**\n",
    "2. Empaquetado del Mod**\n",
    "  elo:\r\n",
    "Guarda el Modelo:\r\n",
    "Exporta el modelo entrenado a un formato específico (por ejemplo, formato ONNX, HDF5).\r\n",
    "Requisitos de Entorno:\r\n",
    "Documenta las dependencias y requisitos del entorno necesario para ejecutar el modelo (bibliotecas, versiones de Python,\n",
    "**c.).\r\n",
    "3. Desarrollo de la Infraes**\n",
    "tructura:\r\n",
    "Selecciona una Plataforma de Despliegue:\r\n",
    "Puedes utilizar servicios en la nube (como AWS SageMaker, Google AI Platform, Azure ML) o servidores locales.\r\n",
    "Configuración del Entorno:\r\n",
    "Prepara el entorno para el despliegue, asegurándote de que todas las dependencias estén\n",
    "**staladas.\r\n",
    "4. Desarrollo de la A**\n",
    "PI o Interfaz:\n",
    "\r\n",
    "Crea una API:\r\n",
    "Desarrolla una interfaz (API REST, GraphQL) para que los usuarios interactúen con el modelo.\r\n",
    "Utiliza frameworks como Flask, FastA\n",
    "PI, Django, etc.\r\n",
    "Manejo de \n",
    "Entradas/Salidas:\r\n",
    "Define cómo se enviarán las solicitudes al modelo y cómo se recibirán\n",
    "**s predicciones.\r\n",
    "5. Seguridad**\n",
    "y Control de Acceso:\r\n",
    "Autentic\n",
    "ación y Autorización:\r\n",
    "Implementa medidas de seguridad para controlar el acceso a la API.\r\n",
    "Usa tokens, autenticaci\n",
    "**basada en A**\n",
    "PI, etc.\r\n",
    "6. Despliegue:\r\n",
    "Implementación Continua (CI) / \n",
    "Despliegue Continuo (CD):\r\n",
    "Configura pipelines CI/CD para automatizar el despliegue d\n",
    "el modelo.\r\n",
    "Monitorización:\r\n",
    "Establece métricas y monitoreo para supervisar el rendimient\n",
    "**el modelo en producción.\r\n",
    "7. Escalab**\n",
    "ilidad y Tolerancia a Fallos:\r\n",
    "Escalabilidad Horizontal:\r\n",
    "Asegúrate de que el sistema pueda manejar un aumento en la carga de solicitudes.\r\n",
    "Implementa balancea\n",
    "dores de carga si es necesario.\r\n",
    "Manejo de Errores y Fallos:\r\n",
    "Incorpora manejo de errores y mecanismos \n",
    "**recupera**\n",
    "ción en la aplicación.\r\n",
    "8. Pruebas:\r\n",
    "Pruebas Unitarias y de Integración:\r\n",
    "Realiza pruebas exhaustivas para garantizar que el modelo y la API funcionen correctamente.\r\n",
    "Re\n",
    "**za pruebas de **rendimiento y carga.\r\n",
    "9. Documentación:\r\n",
    "Documenta el Despliegue:\r\n",
    "Proporciona documentación detallada sobre cómo usar la API, qué es\n",
    "**r y cómo interpretar los**\n",
    " resultados.\r\n",
    "10. Monitorización Continua:\r\n",
    "Supervisión del Rendimiento:\r\n",
    "Implementa sistemas de monitorización continua para detectar problemas de rendimi\n",
    "** o cambios en la distribución de** \n",
    "datos.\r\n",
    "11. Actualizaciones y Mantenimiento:\r\n",
    "Gestión de Versiones:\r\n",
    "Gestiona las versiones del modelo y la API.\r\n",
    "Planif\n",
    "**y documenta las ac**\n",
    "tualizaciones del modelo.\r\n",
    "12. Retiro del Modelo:\r\n",
    "Planificación para la Obsolescencia:\r\n",
    "Planifica la retirada del modelo cuando sea necesario, proporcionando transiciones suaves si es posible."
   ]
  },
  {
   "cell_type": "markdown",
   "id": "51403351-55e7-4063-9b99-af20ea6ed55f",
   "metadata": {},
   "source": [
    "## **Crear una App para consumir el Modelo**\r\n",
    "\r\n",
    "Existen varias formas de desplegar un modelo de machine learning en producción, y la elección depende de diversos factores, como la infraestructura disponible, el tamaño del modelo, el rendimiento requerido, la escalabilidad y la complejidad del sistema en general. Algunas de las formas comunes de desplegar modelos de machine learning en producción son las siguientes:\r\n",
    "\r\n",
    "* Servicios web/APIs: Un enfoque común es implementar el modelo detrás de una API (Application Programming Interface). Esto permite que otras aplicaciones o servicios se comuniquen con el modelo enviando solicitudes HTTP y recibiendo respuestas JSON. Ejemplos de frameworks populares para crear APIs son Flask (Python) o Express.js (Node.js).\r\n",
    "\r\n",
    "* Microservicios: Similar al enfoque de API, pero utilizando una arquitectura de microservicios. En este caso, el modelo se implementa como un microservicio que se comunica con otros componentes del sistema a través de solicitudes y respuestas.\r\n",
    "\r\n",
    "* Contenedores: El modelo y sus dependencias se empaquetan en un contenedor (por ejemplo, Docker) para que se puedan desplegar fácilmente en diferentes entornos y plataformas.\r\n",
    "\r\n",
    "* Serverless: En plataformas serverless como AWS Lambda o Azure Functions, puedes ejecutar el modelo como una función que se activa en respuesta a eventos específicos, sin preocuparte por el servidor subyacente.\r\n",
    "\r\n",
    "* Cloud Machine Learning Platforms: Los principales proveedores de servicios en la nube (como AWS, Azure y Google Cloud) ofrecen plataformas específicas para desplegar y gestionar modelos de machine learning en producción, como AWS SageMaker, Azure Machine Learning y Google Cloud AI Platform.\r\n",
    "\r\n",
    "* Inference en el Edge: En algunos casos, se puede desplegar el modelo directamente en dispositivos de borde (como dispositivos IoT o móviles) para realizar inferencia local sin depender de una conexión a la nube.\r\n",
    "\r\n",
    "* Plataformas de orquestación: Utilizar herramientas de orquestación y gestión de modelos, como Kubeflow, Apache Airflow o MLflow, para simplificar el despliegue y la gestión de modelos en producción."
   ]
  },
  {
   "cell_type": "markdown",
   "id": "69a5687b-1a63-467c-84ec-fef965746ca6",
   "metadata": {},
   "source": [
    "## **Introducción a Streamlit**\n",
    "* https://docs.streamlit.io/\n",
    "Según los fundadores de Streamlit, es la forma más rápida de crear aplicaciones de datos y compartirlas. Es una herramienta de implementación de modelos reciente que simplifica todo el ciclo de implementación de modelos y le permite implementar sus modelos rápidamente."
   ]
  },
  {
   "cell_type": "code",
   "execution_count": 1,
   "id": "a524aef9-ba4a-4117-b616-2f08965d6f01",
   "metadata": {},
   "outputs": [],
   "source": [
    "# conda install -c conda-forge streamlit\n",
    "# !pip install streamlit"
   ]
  },
  {
   "attachments": {
    "1123c8d5-c252-47a5-b6e2-b8514219b3de.png": {
     "image/png": "[encoded data removed]"
    }
   },
   "cell_type": "markdown",
   "id": "e1701829-a5a4-40d5-8f36-db9aa0704e39",
   "metadata": {},
   "source": [
    "![image.png](attachment:1123c8d5-c252-47a5-b6e2-b8514219b3de.png)"
   ]
  },
  {
   "cell_type": "markdown",
   "id": "a3f43bab-3d39-40ad-a7ee-c34dfd041bcc",
   "metadata": {},
   "source": [
    "## Crear la App con Streamlit"
   ]
  },
  {
   "cell_type": "code",
   "execution_count": 2,
   "id": "0d2c5e9d-8d79-4d58-bb8e-23273aa13649",
   "metadata": {},
   "outputs": [
    {
     "name": "stdout",
     "output_type": "stream",
     "text": [
      "Overwriting app.py\n"
     ]
    }
   ],
   "source": [
    "%%writefile app.py\n",
    "import pickle\n",
    "import streamlit as st\n",
    "\n",
    "## Importar el Modelo\n",
    "\n",
    "with open('clasificador_credito_rf.pkl', 'rb') as file:\n",
    "    clasificador = pickle.load(file)\n",
    "    \n",
    "@st.cache()\n",
    "\n",
    "## Definir la Funciòn de predicciòn\n",
    "\n",
    "def prediction(Gender,\tMarried,\tApplicantIncome\t,LoanAmount,\tCredit_History):\n",
    "    if (Gender==\"Male\"):\n",
    "        Gender=0\n",
    "    else:\n",
    "        Gender=1\n",
    "    if (Married==\"Unmarried\"):\n",
    "        Married=0\n",
    "    else:\n",
    "        Married=1\n",
    "    if (Credit_History==\"Unclear Debts\"):\n",
    "        Credit_History=0\n",
    "    else:\n",
    "        Credit_History=1\n",
    "        \n",
    "    LoanAmount=LoanAmount/1000\n",
    "    prediccion=clasificador.predict([[Gender,\tMarried,\tApplicantIncome\t,LoanAmount,\tCredit_History]])\n",
    "    if prediccion==0:\n",
    "        pred=\"Rejected\"\n",
    "    else:\n",
    "        pred=\"Approved\"\n",
    "    return pred\n",
    "\n",
    "## Definir la App para consumir el modelo\n",
    "\n",
    "def main():\n",
    "    html_temp=\"\"\"\n",
    "    <div style =\"background-color:yellow;padding:13px\"> \n",
    "    <h1 style =\"color:black;text-align:center;\">Streamlit Loan Prediction ML App</h1> \n",
    "    </div> \n",
    "    \"\"\"\n",
    "    st.markdown(html_temp, unsafe_allow_html = True)\n",
    "    Gender=st.selectbox(\"Gender\",(\"Male\",\"Female\"))\n",
    "    Married=st.selectbox(\"Marital Status\",(\"Unmarried\",\"Married\"))\n",
    "    ApplicantIncome=st.number_input(\"Applicants monthly income\")\n",
    "    LoanAmount = st.number_input(\"Total loan amount\")\n",
    "    Credit_History = st.selectbox('Credit_History',(\"Unclear Debts\",\"No Unclear Debts\"))\n",
    "    result=\"\"\n",
    "    if st.button(\"Predict\"):\n",
    "        result=prediction(Gender,Married,ApplicantIncome,LoanAmount,Credit_History)\n",
    "        st.success('Your loan is {}'.format(result))\n",
    "        print(LoanAmount)\n",
    "\n",
    "if __name__=='__main__': \n",
    "    main()"
   ]
  },
  {
   "cell_type": "code",
   "execution_count": 3,
   "id": "8eb1041a-9517-4ca0-b027-97a127e1ec79",
   "metadata": {},
   "outputs": [
    {
     "name": "stdout",
     "output_type": "stream",
     "text": [
      "Versión de scikit-learn: 1.3.2\n"
     ]
    }
   ],
   "source": [
    "import sklearn\n",
    "print(\"Versión de scikit-learn:\", sklearn.__version__)"
   ]
  },
  {
   "cell_type": "code",
   "execution_count": null,
   "id": "61aea5ae-02b8-4de3-80f3-ab1d4b2783ea",
   "metadata": {},
   "outputs": [],
   "source": []
  }
 ],
 "metadata": {
  "kernelspec": {
   "display_name": "Python 3 (ipykernel)",
   "language": "python",
   "name": "python3"
  },
  "language_info": {
   "codemirror_mode": {
    "name": "ipython",
    "version": 3
   },
   "file_extension": ".py",
   "mimetype": "text/x-python",
   "name": "python",
   "nbconvert_exporter": "python",
   "pygments_lexer": "ipython3",
   "version": "3.11.5"
  }
 },
 "nbformat": 4,
 "nbformat_minor": 5
}
